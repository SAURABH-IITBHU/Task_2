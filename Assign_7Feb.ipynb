{
 "cells": [
  {
   "cell_type": "markdown",
   "id": "947e1ec6-5dfa-4908-94ea-7d38b8cfbdaf",
   "metadata": {},
   "source": [
    "## Q1. You are writing code for a company. The requirement of the company is that you create a python function that will check whether the password entered by the user is correct or not. The function should take the password as input and return the string “Valid Password” if the entered password follows the below-given password guidelines else it should return “Invalid Password”.\n",
    "## Note: 1. The Password should contain at least two uppercase letters and at least two lowercase letters.\n",
    "## 2. The Password should contain at least a number and three special characters.\n",
    "## 3. The length of the password should be 10 characters long."
   ]
  },
  {
   "cell_type": "code",
   "execution_count": 23,
   "id": "740fbb9f-1186-42dd-9597-585e5d43fa61",
   "metadata": {},
   "outputs": [
    {
     "name": "stdin",
     "output_type": "stream",
     "text": [
      "Enter Password:-  ABCde12@$#\n"
     ]
    },
    {
     "name": "stdout",
     "output_type": "stream",
     "text": [
      "Valid Password\n"
     ]
    }
   ],
   "source": [
    "password = input('Enter Password:- ')\n",
    "a = 0\n",
    "b = 0\n",
    "c = 0\n",
    "d = 0\n",
    "for i in password:\n",
    "    if i.isupper():   \n",
    "        a+=1\n",
    "    elif i.islower():\n",
    "        b+=1\n",
    "    elif i.isdigit():\n",
    "        c+=1\n",
    "    else:\n",
    "        d+=1\n",
    "\n",
    "        \n",
    "\n",
    "if len(password)==10 or a>=2 or b>=2 or c>=1 or d>=3:\n",
    "    print('Valid Password')\n",
    "else:\n",
    "    print(\"Invalid Password\")"
   ]
  },
  {
   "cell_type": "code",
   "execution_count": 24,
   "id": "34013271-c62e-43c2-954f-eb086a84c6df",
   "metadata": {},
   "outputs": [
    {
     "name": "stdin",
     "output_type": "stream",
     "text": [
      "Enter Password:-  SDf45@#hjj\n"
     ]
    },
    {
     "name": "stdout",
     "output_type": "stream",
     "text": [
      "Invalid Password\n"
     ]
    }
   ],
   "source": [
    "password = input('Enter Password:- ')\n",
    "a = 0\n",
    "b = 0\n",
    "c = 0\n",
    "d = 0\n",
    "for i in password:\n",
    "    if i.isupper():   \n",
    "        a+=1\n",
    "    elif i.islower():\n",
    "        b+=1\n",
    "    elif i.isdigit():\n",
    "        c+=1\n",
    "    else:\n",
    "        d+=1\n",
    "\n",
    "        \n",
    "\n",
    "if len(password)==10 or a<2 or b<2 or c<1 or d<3:\n",
    "    print('Invalid Password')\n",
    "else:\n",
    "    print(\"Valid Password\")"
   ]
  },
  {
   "cell_type": "code",
   "execution_count": null,
   "id": "40f359cb-3387-4099-ab41-a7eaf4d30d25",
   "metadata": {},
   "outputs": [],
   "source": []
  },
  {
   "cell_type": "markdown",
   "id": "fffeb5b7-d354-4a4f-a09a-41a2cd497b01",
   "metadata": {},
   "source": [
    "## Q2. Solve the below-given questions using at least one of the following:\n",
    "## 1. Lambda function\n",
    "## 2. Filter function\n",
    "## 3. Map function\n",
    "## 4. List Comprehension\n",
    "## - Check if the string starts with a particular letter.\n",
    "## - Check if the string is numeric.\n",
    "## -Sort a list of tuples having fruit names and their quantity. [(\"mango\",99),(\"orange\",80),(\"grapes\", 1000)]\n",
    "## - Find the squares of numbers from 1 to 10.\n",
    "## -Find the cube root of numbers from 1 to 10.\n",
    "## - Check if a given number is even.\n",
    "## -Filter odd numbers from the given list.\n",
    "## [1,2,3,4,5,6,7,8,9,10]\n",
    "## -Sort a list of integers into positive and negative integers lists.\n",
    "## [1,2,3,4,5,6,-1,-2,-3,-4,-5,0]"
   ]
  },
  {
   "cell_type": "code",
   "execution_count": null,
   "id": "c04989c7-4d19-4972-aa00-87378e27c4d5",
   "metadata": {},
   "outputs": [],
   "source": []
  },
  {
   "cell_type": "markdown",
   "id": "951b1b9d-762b-4216-98ee-d1e7c925ee96",
   "metadata": {},
   "source": [
    "##  Check if the string starts with a particular letter."
   ]
  },
  {
   "cell_type": "code",
   "execution_count": 72,
   "id": "d4c85566-0299-4dea-916d-f0cef06c33ff",
   "metadata": {},
   "outputs": [
    {
     "name": "stdout",
     "output_type": "stream",
     "text": [
      "True\n"
     ]
    }
   ],
   "source": [
    "string = 'ABC'\n",
    "start = lambda x : x.startswith('A')\n",
    "print(start(string))"
   ]
  },
  {
   "cell_type": "code",
   "execution_count": null,
   "id": "7b6c7667-a473-40e3-88df-447fac4e2268",
   "metadata": {},
   "outputs": [],
   "source": []
  },
  {
   "cell_type": "markdown",
   "id": "68c25a0c-f7bf-4964-a5b7-2e42ed7cbb66",
   "metadata": {},
   "source": [
    "## Check if the string is numeric."
   ]
  },
  {
   "cell_type": "code",
   "execution_count": 77,
   "id": "ffd875a0-de6d-4d00-8d47-335f313dae7a",
   "metadata": {},
   "outputs": [
    {
     "name": "stdout",
     "output_type": "stream",
     "text": [
      "True\n",
      "False\n"
     ]
    }
   ],
   "source": [
    "n='12363525'\n",
    "numeric = lambda a : a.isnumeric()\n",
    "print(numeric(n))\n",
    "\n",
    "print(numeric('we34'))"
   ]
  },
  {
   "cell_type": "code",
   "execution_count": null,
   "id": "9eb60834-92a8-4104-beb4-69d08a4447df",
   "metadata": {},
   "outputs": [],
   "source": []
  },
  {
   "cell_type": "markdown",
   "id": "397af105-bbb6-48ea-a192-dbd4d40485d2",
   "metadata": {},
   "source": [
    "## Sort a list of tuples having fruit names and their quantity. [(\"mango\",99),(\"orange\",80),(\"grapes\", 1000)]"
   ]
  },
  {
   "cell_type": "code",
   "execution_count": 83,
   "id": "488cf5e6-536d-48fb-9029-d1b4fdc8278e",
   "metadata": {},
   "outputs": [
    {
     "name": "stdout",
     "output_type": "stream",
     "text": [
      "[('grapes', 1000), ('mango', 99), ('orange', 80)]\n",
      "\n",
      "\n",
      "[('orange', 80), ('mango', 99), ('grapes', 1000)]\n"
     ]
    }
   ],
   "source": [
    "l = [(\"mango\",99),(\"orange\",80),(\"grapes\", 1000)]\n",
    "l.sort()\n",
    "print(l)\n",
    "\n",
    "print('\\n')\n",
    "\n",
    "l.sort(key = lambda x:x[-1])\n",
    "print(l)"
   ]
  },
  {
   "cell_type": "code",
   "execution_count": null,
   "id": "93094156-800e-46c6-9db3-d118f601ec68",
   "metadata": {},
   "outputs": [],
   "source": []
  },
  {
   "cell_type": "markdown",
   "id": "304997a7-4e1e-4a1b-8c77-2c1b7a0e601e",
   "metadata": {},
   "source": [
    "## - Find the squares of numbers from 1 to 10."
   ]
  },
  {
   "cell_type": "code",
   "execution_count": 51,
   "id": "0ee37a1c-76b2-45a8-a63c-99ee44ae68b5",
   "metadata": {},
   "outputs": [
    {
     "name": "stdout",
     "output_type": "stream",
     "text": [
      "[1, 4, 9, 16, 25, 36, 49, 64, 81, 100]\n"
     ]
    }
   ],
   "source": [
    "print([i**2 for i in range(1,11)])"
   ]
  },
  {
   "cell_type": "code",
   "execution_count": null,
   "id": "e11da8e2-e66f-4f83-bca3-ef8590b20b06",
   "metadata": {},
   "outputs": [],
   "source": []
  },
  {
   "cell_type": "markdown",
   "id": "1f20f659-adaf-4200-bd58-e199f68646bd",
   "metadata": {},
   "source": [
    "## -Find the cube root of numbers from 1 to 10."
   ]
  },
  {
   "cell_type": "code",
   "execution_count": 52,
   "id": "c8c02ab7-5f7f-4e65-bb1d-b077a6c84058",
   "metadata": {},
   "outputs": [
    {
     "name": "stdout",
     "output_type": "stream",
     "text": [
      "[1.0, 1.2599210498948732, 1.4422495703074083, 1.5874010519681994, 1.7099759466766968, 1.8171205928321397, 1.912931182772389, 2.0, 2.080083823051904, 2.154434690031884]\n"
     ]
    }
   ],
   "source": [
    "print([i**(1/3) for i in range(1,11)])\n"
   ]
  },
  {
   "cell_type": "code",
   "execution_count": null,
   "id": "619cad0c-3ccc-4c4c-9d70-8fd03b73874e",
   "metadata": {},
   "outputs": [],
   "source": []
  },
  {
   "cell_type": "markdown",
   "id": "ae6bc9cc-8d1e-4025-9fbc-e0483909ce44",
   "metadata": {},
   "source": [
    "## - Check if a given number is even."
   ]
  },
  {
   "cell_type": "code",
   "execution_count": 54,
   "id": "e104ad7d-9da3-4dac-9787-cd712c5fa574",
   "metadata": {},
   "outputs": [
    {
     "name": "stdin",
     "output_type": "stream",
     "text": [
      "Enter Number:-  5\n"
     ]
    },
    {
     "name": "stdout",
     "output_type": "stream",
     "text": [
      "False\n"
     ]
    }
   ],
   "source": [
    "n = int(input('Enter Number:- '))\n",
    "even = lambda x:x%2==0\n",
    "print(even(n))"
   ]
  },
  {
   "cell_type": "code",
   "execution_count": null,
   "id": "ca363381-4a7b-421c-a125-c0482933d053",
   "metadata": {},
   "outputs": [],
   "source": []
  },
  {
   "cell_type": "markdown",
   "id": "9b84a7d4-e7e6-4715-a5a2-78de4cd6da93",
   "metadata": {},
   "source": [
    "## -Filter odd numbers from the given list.\n",
    "## [1,2,3,4,5,6,7,8,9,10]"
   ]
  },
  {
   "cell_type": "code",
   "execution_count": 58,
   "id": "a126c7cb-c14e-445b-9388-6c545fcc7cf6",
   "metadata": {},
   "outputs": [
    {
     "name": "stdout",
     "output_type": "stream",
     "text": [
      "[1, 3, 5, 7, 9]\n"
     ]
    }
   ],
   "source": [
    "l= [1,2,3,4,5,6,7,8,9,10]\n",
    "print(list(filter(lambda x: x%2 != 0, l)))"
   ]
  },
  {
   "cell_type": "code",
   "execution_count": null,
   "id": "12b79ea5-44d2-4997-be28-b78b22cfd8ec",
   "metadata": {},
   "outputs": [],
   "source": []
  },
  {
   "cell_type": "markdown",
   "id": "fdd4e90a-8b45-44cc-a2ec-001b2c2a35ab",
   "metadata": {},
   "source": [
    "## -Sort a list of integers into positive and negative integers lists.\n",
    "## [1,2,3,4,5,6,-1,-2,-3,-4,-5,0]"
   ]
  },
  {
   "cell_type": "code",
   "execution_count": 64,
   "id": "120be9bf-4600-48e5-9b95-c223c0851ca8",
   "metadata": {},
   "outputs": [
    {
     "name": "stdout",
     "output_type": "stream",
     "text": [
      "Positive numbers are:- [1, 2, 3, 4, 5, 6]\n",
      "Negetive numbers are:- [-1, -2, -3, -4, -5]\n"
     ]
    }
   ],
   "source": [
    "l1 = [1,2,3,4,5,6,-1,-2,-3,-4,-5,0]\n",
    "\n",
    "positive = list(filter(lambda x: x>0, l1))\n",
    "negetive = list(filter(lambda x: x<0,l1))\n",
    "\n",
    "print(f'Positive numbers are:- {positive}')\n",
    "print(f'Negetive numbers are:- {negetive}')"
   ]
  }
 ],
 "metadata": {
  "kernelspec": {
   "display_name": "Python 3 (ipykernel)",
   "language": "python",
   "name": "python3"
  },
  "language_info": {
   "codemirror_mode": {
    "name": "ipython",
    "version": 3
   },
   "file_extension": ".py",
   "mimetype": "text/x-python",
   "name": "python",
   "nbconvert_exporter": "python",
   "pygments_lexer": "ipython3",
   "version": "3.10.8"
  }
 },
 "nbformat": 4,
 "nbformat_minor": 5
}
